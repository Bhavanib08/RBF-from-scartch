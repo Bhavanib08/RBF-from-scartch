{
 "cells": [
  {
   "cell_type": "markdown",
   "metadata": {},
   "source": [
    "## Question 3"
   ]
  },
  {
   "cell_type": "markdown",
   "metadata": {},
   "source": [
    "## Importing Required Libraries"
   ]
  },
  {
   "cell_type": "code",
   "execution_count": 220,
   "metadata": {},
   "outputs": [],
   "source": [
    "import numpy as np\n",
    "import matplotlib.pyplot as plt\n",
    "import math as mt\n",
    "import random\n",
    "from sklearn.cluster import KMeans"
   ]
  },
  {
   "cell_type": "markdown",
   "metadata": {},
   "source": [
    "## Data Generation"
   ]
  },
  {
   "cell_type": "code",
   "execution_count": 221,
   "metadata": {},
   "outputs": [
    {
     "name": "stdout",
     "output_type": "stream",
     "text": [
      "Data [[ 0.2  1.4 -1. ]\n",
      " [-1.   0.4 -1. ]\n",
      " [ 2.  -0.6 -1. ]\n",
      " ...\n",
      " [-0.6 -2.  -1. ]\n",
      " [-1.6 -1.6 -1. ]\n",
      " [ 0.8 -1.2 -1. ]]\n"
     ]
    }
   ],
   "source": [
    "x_i = []\n",
    "x_j = []\n",
    "data_label =[]\n",
    "for i in range(0,21):\n",
    "    x= -2+(0.2*i)\n",
    "    x = round(x,1)\n",
    "    x_i.append(x)\n",
    "    x_j.append(x)\n",
    "data_label =  [[x,y] for x in x_i for y in x_j]\n",
    "# print(data_label)\n",
    "for i in range(len(data_label)):\n",
    "    x = data_label[i]\n",
    "    x_1 = x[0]\n",
    "    x_2 = x[1]\n",
    "    if(((x_1**2)+(x_2**2))<=1):\n",
    "        data_label[i].append(+1)\n",
    "    else:\n",
    "        data_label[i].append(-1)\n",
    "data_label = np.array(data_label)\n",
    "\n",
    "# Randomly Shuffling the Data\n",
    "np.random.shuffle(data_label)\n",
    "print(\"Data\",data_label)\n",
    "X_data = data_label[:,[0,1]]\n",
    "y_data = data_label[:,[2]]"
   ]
  },
  {
   "cell_type": "markdown",
   "metadata": {},
   "source": [
    "## Splitting the data into Train and Test Data"
   ]
  },
  {
   "cell_type": "code",
   "execution_count": 222,
   "metadata": {},
   "outputs": [
    {
     "name": "stdout",
     "output_type": "stream",
     "text": [
      "X_train (352, 2)\n",
      "X_test (89, 2)\n"
     ]
    }
   ],
   "source": [
    "index = int(0.8 * len(X_data))\n",
    "X_train, X_test = X_data[:index], X_data[index:]\n",
    "y_train, y_test = y_data[:index], y_data[index:]\n",
    "print(\"X_train\",X_train.shape)\n",
    "print(\"X_test\",X_test.shape)"
   ]
  },
  {
   "cell_type": "code",
   "execution_count": 223,
   "metadata": {},
   "outputs": [],
   "source": [
    "class rbf():\n",
    "    def __init__(self,hidden_n,centers,sigma,KMeans = False):\n",
    "        self.sigma = sigma\n",
    "        self.weights = None\n",
    "        self.centers = centers\n",
    "        self.Hidden_Neurons = hidden_n\n",
    "        self.KMeans = KMeans\n",
    "\n",
    "    def gaussiankernel(self, x, v):\n",
    "        return np.exp((-1 / (2*self.sigma**2))*np.linalg.norm(x-v)**2)\n",
    "\n",
    "    def random(self, x):\n",
    "        r = np.random.choice(len(x),self.centers)\n",
    "        centers = x[r]\n",
    "        return centers\n",
    "        \n",
    "    def G(self,x):\n",
    "        v = np.zeros((len(x),self.Hidden_Neurons))\n",
    "        for i in range(len(x)):\n",
    "            for j in range(len(self.centers)):\n",
    "                v[i][j] = self.gaussiankernel(x[i],self.centers[j])\n",
    "        return v\n",
    "\n",
    "    \n",
    "    def fit(self,x,y):\n",
    "        if(self.KMeans==False):\n",
    "            self.centers = self.random(x)\n",
    "        else:\n",
    "            self.centers=KMeans(n_clusters=150, random_state=0).fit(x)\n",
    "            self.centers=self.centers.cluster_centers_\n",
    "        g = self.G(x)\n",
    "        g_inv = np.linalg.pinv(g)\n",
    "        self.weights = np.dot(g_inv,y)  \n",
    "    \n",
    "    def predict(self,x):\n",
    "        pred = np.dot(self.G(x), self.weights)\n",
    "        pred=self.signum(pred)\n",
    "        return pred\n",
    "        \n",
    "    def signum(self,d):\n",
    "        return np.sign(d)\n",
    "    \n",
    "    def accuracy(self, y_p, y):\n",
    "        s = 0\n",
    "        for i in range(len(y_p)):\n",
    "            if (y_p[i] == y[i]):\n",
    "                s += 1\n",
    "        accuracy = s / len(y_p)\n",
    "        return accuracy\n",
    "    \n",
    "    def MeanError(self,y_p,y):\n",
    "        mse=np.square(np.subtract(y_p,y)).mean() \n",
    "        return mse "
   ]
  },
  {
   "cell_type": "markdown",
   "metadata": {},
   "source": [
    "## 1. Training the RBF model with all the datapoints"
   ]
  },
  {
   "cell_type": "markdown",
   "metadata": {},
   "source": [
    "In this case all the input data points are passed as centers to the Hidden Layer.\n",
    "\n",
    "Training the model with different sigma values ranging from 0.05 to 20. The Accuracies and Mean Squared Errors for different sigma values were calculated and plots of sigma vs accuracies and sigma vs Errors were plotted to observe the variations.\n",
    "The value of Sigma which generated the Maximum Accuracy and least Error were reported.\n",
    "\n"
   ]
  },
  {
   "cell_type": "code",
   "execution_count": 235,
   "metadata": {},
   "outputs": [
    {
     "name": "stdout",
     "output_type": "stream",
     "text": [
      "Sigma 0.05 Accuracy 97.75 Mean Squared Error 0.09\n",
      "Sigma 0.1 Accuracy 96.63 Mean Squared Error 0.13\n",
      "Sigma 0.5 Accuracy 95.51 Mean Squared Error 0.18\n",
      "Sigma 1 Accuracy 95.51 Mean Squared Error 0.18\n",
      "Sigma 1.5 Accuracy 98.88 Mean Squared Error 0.04\n",
      "Sigma 2 Accuracy 98.88 Mean Squared Error 0.04\n",
      "Sigma 5 Accuracy 97.75 Mean Squared Error 0.09\n",
      "Sigma 10 Accuracy 96.63 Mean Squared Error 0.13\n",
      "Sigma 12 Accuracy 97.75 Mean Squared Error 0.09\n",
      "Sigma 15 Accuracy 96.63 Mean Squared Error 0.13\n",
      "Sigma 20 Accuracy 96.63 Mean Squared Error 0.13\n",
      "CPU times: user 30.2 s, sys: 834 ms, total: 31 s\n",
      "Wall time: 25.9 s\n"
     ]
    }
   ],
   "source": [
    "%%time\n",
    "#List of Different Sigma Values\n",
    "s = [0.05,0.1,0.5,1,1.5,2,5,10,12,15,20]\n",
    "accuracy = []\n",
    "mse = []\n",
    "for i in s:\n",
    "    obj = rbf(len(X_train),len(X_train),i)\n",
    "    obj.fit(X_train,y_train)\n",
    "    y_pred = obj.predict(X_test)\n",
    "    a = obj.accuracy(y_pred,y_test)*100\n",
    "    accuracy.append(a)\n",
    "    m = obj.MeanError(y_pred,y_test)\n",
    "    mse.append(m)\n",
    "    print(\"Sigma\",i,\"Accuracy\",np.round(a,2),\"Mean Squared Error\",np.round(m,2))"
   ]
  },
  {
   "cell_type": "markdown",
   "metadata": {},
   "source": [
    "### Plot of Sigma values Vs Accuracies"
   ]
  },
  {
   "cell_type": "code",
   "execution_count": 236,
   "metadata": {},
   "outputs": [
    {
     "data": {
      "image/png": "[encoded data removed]",
      "text/plain": [
       "<Figure size 432x288 with 1 Axes>"
      ]
     },
     "metadata": {
      "needs_background": "light"
     },
     "output_type": "display_data"
    }
   ],
   "source": [
    "plt.plot(s,accuracy)\n",
    "plt.xlabel(\"Sigma\")\n",
    "plt.ylabel(\"Accuracy\")\n",
    "plt.title(\"Accuracies Corresponding to various Sigma values\")\n",
    "plt.show()"
   ]
  },
  {
   "cell_type": "markdown",
   "metadata": {},
   "source": [
    "### Plot of Sigma Vs Mean Squared Errors"
   ]
  },
  {
   "cell_type": "code",
   "execution_count": 237,
   "metadata": {},
   "outputs": [
    {
     "data": {
      "image/png": "[encoded data removed]",
      "text/plain": [
       "<Figure size 432x288 with 1 Axes>"
      ]
     },
     "metadata": {
      "needs_background": "light"
     },
     "output_type": "display_data"
    }
   ],
   "source": [
    "plt.plot(s,mse)\n",
    "plt.xlabel(\"Sigma\")\n",
    "plt.ylabel(\"Mean Squared Error\")\n",
    "plt.title(\"Mean Squared Errors Corresponding to various Sigma values\")\n",
    "plt.show()"
   ]
  },
  {
   "cell_type": "markdown",
   "metadata": {},
   "source": [
    "### Reporting the sigma which gave Maximum accuracy and Least Error"
   ]
  },
  {
   "cell_type": "markdown",
   "metadata": {},
   "source": [
    "### Maximum Accuracy: 98.88\n",
    "### Least Error: 0.04\n",
    "### Corresponding Sigma: 1.5\n",
    "### Time: 25.9 s\n",
    "\n"
   ]
  },
  {
   "cell_type": "markdown",
   "metadata": {},
   "source": [
    "## 2. Performing the design of the RBF NN, using this time only 150 centers, choosing the centers using two approaches:"
   ]
  },
  {
   "cell_type": "markdown",
   "metadata": {},
   "source": [
    "### a. Randomly selecting 150 centers from the input data and training for the best sigmas from approach 1"
   ]
  },
  {
   "cell_type": "code",
   "execution_count": 246,
   "metadata": {},
   "outputs": [
    {
     "name": "stdout",
     "output_type": "stream",
     "text": [
      "Accuracy 98.88 Mean Squared Error 0.04 Sigma 1.5\n",
      "CPU times: user 1.23 s, sys: 73.1 ms, total: 1.3 s\n",
      "Wall time: 1.02 s\n"
     ]
    }
   ],
   "source": [
    "%%time\n",
    "s=1.5\n",
    "obj = rbf(len(X_train),150,s)\n",
    "obj.fit(X_train,y_train)\n",
    "y_pred = obj.predict(X_test)\n",
    "accuracy = obj.accuracy(y_pred,y_test)*100\n",
    "mse = obj.MeanError(y_pred,y_test)\n",
    "print(\"Accuracy\",np.round(accuracy,2),\"Mean Squared Error\",np.round(mse,2),\"Sigma\",s)"
   ]
  },
  {
   "cell_type": "markdown",
   "metadata": {},
   "source": [
    "### Accuracy: 98.88  \n",
    "### Error: 0.04  \n",
    "### Sigma: 1.5\n",
    "### Time: 1.02 s"
   ]
  },
  {
   "cell_type": "markdown",
   "metadata": {},
   "source": [
    "### b. Using K-Means algorithm to find the centers "
   ]
  },
  {
   "cell_type": "code",
   "execution_count": 247,
   "metadata": {},
   "outputs": [
    {
     "name": "stdout",
     "output_type": "stream",
     "text": [
      "Accuracy 98.88 Mean Squared Error 0.04 Sigma 1.5\n",
      "CPU times: user 2.53 s, sys: 111 ms, total: 2.64 s\n",
      "Wall time: 1.62 s\n"
     ]
    }
   ],
   "source": [
    "%%time\n",
    "s = 1.5\n",
    "obj = rbf(len(X_train),150,1.5,True)\n",
    "obj.fit(X_train,y_train)\n",
    "y_pred = obj.predict(X_test)\n",
    "accuracy = obj.accuracy(y_pred,y_test)*100\n",
    "mse = obj.MeanError(y_pred,y_test)\n",
    "print(\"Accuracy\",np.round(accuracy,2),\"Mean Squared Error\",np.round(mse,2),\"Sigma\",s)"
   ]
  },
  {
   "cell_type": "markdown",
   "metadata": {},
   "source": [
    "### Accuracy: 98.88\n",
    "### Mean Squared Error: 0.04\n",
    "### Sigma: 1.5\n",
    "### Time: 1.62 s"
   ]
  },
  {
   "cell_type": "markdown",
   "metadata": {},
   "source": [
    "## Observations from the runs:\n",
    "\n",
    "-- Generally as the spread increases the forecasting of the data reduces.Considering this I chose 1.5 as the sigma value among all the sigmas that returned the highest accuracies and I used this as the sigma value for the approach two when we randomly choose 150 datapoints as centers.  \n",
    "-- For the second approach I also tried different sigma values, here I observed that the best accuracy obtained was still for the same sigma value. This deduces that the spread parameter is not dependent on the number of centers chosen.  \n",
    "-- We can also observe that as the number of centers reduced in the second approach, the accuracy also reduced.   \n",
    "-- Considering time taken for the computation, in the first approach the time taken is greater than that for 150 centers because choosing 150 centers randomly is faster even when compared to computing 150 centers using KMeans Clustering."
   ]
  }
 ],
 "metadata": {
  "kernelspec": {
   "display_name": "Python 3",
   "language": "python",
   "name": "python3"
  },
  "language_info": {
   "codemirror_mode": {
    "name": "ipython",
    "version": 3
   },
   "file_extension": ".py",
   "mimetype": "text/x-python",
   "name": "python",
   "nbconvert_exporter": "python",
   "pygments_lexer": "ipython3",
   "version": "3.7.6"
  }
 },
 "nbformat": 4,
 "nbformat_minor": 4
}
